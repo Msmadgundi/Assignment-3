{
 "cells": [
  {
   "cell_type": "markdown",
   "id": "3738431a-47c3-4f8b-9c1f-a1c4950ab3a7",
   "metadata": {},
   "source": [
    "Q1. Explain with an example each when to use a for loop and a while loop."
   ]
  },
  {
   "cell_type": "code",
   "execution_count": null,
   "id": "91c7fcb7-1896-434b-a04f-0b4f2b01c744",
   "metadata": {},
   "outputs": [],
   "source": [
    "For loop is used to iterate over an iterable (such as a list or dictionary).\n",
    "When the number of iterations is already known, the for loop is used."
   ]
  },
  {
   "cell_type": "code",
   "execution_count": 2,
   "id": "2162d0e1-5288-46fb-ba01-a25614a1e479",
   "metadata": {},
   "outputs": [
    {
     "name": "stdout",
     "output_type": "stream",
     "text": [
      "75\n",
      "85\n",
      "55\n",
      "41\n",
      "25\n",
      "60\n",
      "The list is complete\n"
     ]
    }
   ],
   "source": [
    "l = [75, 85, 55, 41, 25, 60]\n",
    "for i in l:\n",
    "    print(i)\n",
    "else :\n",
    "    print(\"The list is complete\")"
   ]
  },
  {
   "cell_type": "code",
   "execution_count": null,
   "id": "cf324840-9b4b-45a0-af17-ce393390a91a",
   "metadata": {},
   "outputs": [],
   "source": [
    "While loop is used to repeat a block of statement until a given condition is satisfied.\n",
    "when the condition becomes false the looping terminates.\n",
    "When the number iteration is unknown, a while loop is used."
   ]
  },
  {
   "cell_type": "code",
   "execution_count": 1,
   "id": "d259cb96-2848-4073-987c-7ddd97325d7e",
   "metadata": {},
   "outputs": [
    {
     "name": "stdout",
     "output_type": "stream",
     "text": [
      "1\n",
      "2\n",
      "3\n",
      "4\n",
      "5\n",
      "6\n",
      "7\n",
      "8\n",
      "9\n",
      "10\n"
     ]
    }
   ],
   "source": [
    "a = 1\n",
    "while a <= 10:\n",
    "    print(a)\n",
    "    a = a + 1"
   ]
  },
  {
   "cell_type": "markdown",
   "id": "6dff3cb9-070d-4310-81cf-3e4c7e5dafdc",
   "metadata": {},
   "source": [
    "Q2. Write a python program to print the sum and product of the first 10 natural numbers using for and while loop."
   ]
  },
  {
   "cell_type": "code",
   "execution_count": 8,
   "id": "1c17ea2d-23a3-45a2-b296-9074fba92aba",
   "metadata": {},
   "outputs": [
    {
     "name": "stdout",
     "output_type": "stream",
     "text": [
      "sum of 10 natural number using for loop is 55\n"
     ]
    }
   ],
   "source": [
    "sum_result = 0\n",
    "for i in range(1,11):\n",
    "    sum_result += i\n",
    "print(\"sum of 10 natural number using for loop is\",sum_result)"
   ]
  },
  {
   "cell_type": "code",
   "execution_count": 10,
   "id": "ee185303-6786-48c0-b6bb-7588c9a0315a",
   "metadata": {},
   "outputs": [
    {
     "name": "stdout",
     "output_type": "stream",
     "text": [
      "product of 10 natural number using for loop is 3628800\n"
     ]
    }
   ],
   "source": [
    "product_result = 1\n",
    "for i in range(1,11):\n",
    "    product_result *= i\n",
    "print(\"product of 10 natural number using for loop is\",product_result)"
   ]
  },
  {
   "cell_type": "code",
   "execution_count": 11,
   "id": "2e257c04-b53d-4ce8-b444-b01748e69e46",
   "metadata": {},
   "outputs": [
    {
     "name": "stdout",
     "output_type": "stream",
     "text": [
      "sum of 10 natural number using while loop is 55\n"
     ]
    }
   ],
   "source": [
    "sum_result = 0\n",
    "i = 1\n",
    "while i <= 10:\n",
    "    sum_result += i\n",
    "    i += 1\n",
    "print(\"sum of 10 natural number using while loop is\",sum_result)"
   ]
  },
  {
   "cell_type": "code",
   "execution_count": 15,
   "id": "a4611793-3f74-4b5d-a057-db9b48114167",
   "metadata": {},
   "outputs": [
    {
     "name": "stdout",
     "output_type": "stream",
     "text": [
      "product of 10 natural number using while loop is 3628800\n"
     ]
    }
   ],
   "source": [
    "product_result = 1\n",
    "i = 1\n",
    "while i <= 10:\n",
    "    product_result *= i\n",
    "    i += 1\n",
    "print(\"product of 10 natural number using while loop is\",product_result)"
   ]
  },
  {
   "cell_type": "markdown",
   "id": "643f878d-74f0-4189-9238-efe90d3b4067",
   "metadata": {},
   "source": [
    "Q3. Create a python program to compute the electricity bill for a household.\n",
    "The per-unit charges in rupees are as follows: For the first 100 units, the user will be charged Rs. 4.5 per unit, for the next 100 units, the user will be charged Rs. 6 per unit, and for the next 100 units, the user will be charged Rs. 10 per unit, After 300 units and abovethe user will be charged Rs.20 per unit.\n",
    "You are required to take the units of electricity consumed in a month from the user as input.\n",
    "Your program must pass this test case: when the unit of electricity consumed by the user in a month is 310, the total electricity bill should be 2250."
   ]
  },
  {
   "cell_type": "code",
   "execution_count": 16,
   "id": "e7f5595e-3a7e-45b4-9468-72076f76f976",
   "metadata": {},
   "outputs": [
    {
     "name": "stdin",
     "output_type": "stream",
     "text": [
      "Enter the units of electricity consumed:  310\n"
     ]
    },
    {
     "name": "stdout",
     "output_type": "stream",
     "text": [
      "Total electricty bill: Rs.  2250.0\n"
     ]
    }
   ],
   "source": [
    "units = int(input(\"Enter the units of electricity consumed: \"))\n",
    "bill = 0\n",
    "\n",
    "if units <= 100:\n",
    "    bill = units * 4.5\n",
    "elif units <= 200:\n",
    "    bill = 100 * 4.5 + (units - 100) * 6\n",
    "elif units <= 300:\n",
    "    bill = 100 * 4.5 + 100 *6 + (units - 200) * 10\n",
    "else:\n",
    "    bill = 100 * 4.5 + 100 * 6 + 100 * 10 + (units - 300) * 20\n",
    "print(\"Total electricty bill: Rs. \", bill)"
   ]
  },
  {
   "cell_type": "markdown",
   "id": "86482eda-18f5-473b-a914-a2e5c8644526",
   "metadata": {},
   "source": [
    "Q4. Create a list of numbers from 1 to 100. Use for loop and while loop to calculate the cube of each number and if the cube of that number is divisible by 4 or 5 then append that number in a list and print that list."
   ]
  },
  {
   "cell_type": "code",
   "execution_count": 17,
   "id": "0a27d06e-3a7a-4f1f-bcac-a4aeb5586d72",
   "metadata": {},
   "outputs": [
    {
     "name": "stdout",
     "output_type": "stream",
     "text": [
      "[2, 4, 5, 6, 8, 10, 12, 14, 15, 16, 18, 20, 22, 24, 25, 26, 28, 30, 32, 34, 35, 36, 38, 40, 42, 44, 45, 46, 48, 50, 52, 54, 55, 56, 58, 60, 62, 64, 65, 66, 68, 70, 72, 74, 75, 76, 78, 80, 82, 84, 85, 86, 88, 90, 92, 94, 95, 96, 98, 100]\n"
     ]
    }
   ],
   "source": [
    "numbers = list(range(1,101))\n",
    "result = []\n",
    "for num in numbers:\n",
    "    cube = num ** 3\n",
    "    if cube % 4 == 0 or cube % 5 == 0:\n",
    "        result.append(num)\n",
    "print(result)"
   ]
  },
  {
   "cell_type": "code",
   "execution_count": 18,
   "id": "ca5aff98-c12a-4ec8-b8e6-9802afc5b7ce",
   "metadata": {},
   "outputs": [
    {
     "name": "stdout",
     "output_type": "stream",
     "text": [
      "[2, 4, 5, 6, 8, 10, 12, 14, 15, 16, 18, 20, 22, 24, 25, 26, 28, 30, 32, 34, 35, 36, 38, 40, 42, 44, 45, 46, 48, 50, 52, 54, 55, 56, 58, 60, 62, 64, 65, 66, 68, 70, 72, 74, 75, 76, 78, 80, 82, 84, 85, 86, 88, 90, 92, 94, 95, 96, 98, 100]\n"
     ]
    }
   ],
   "source": [
    "numbers = list(range(1,101))\n",
    "result = []\n",
    "index = 0\n",
    "while index < len(numbers):\n",
    "    num = numbers[index]\n",
    "    cube = num ** 3\n",
    "    if cube % 4 == 0 or cube % 5 == 0:\n",
    "        result.append(num)\n",
    "    index += 1\n",
    "print(result)"
   ]
  },
  {
   "cell_type": "markdown",
   "id": "edac9746-c2c4-49e8-860c-67f5f1e3f8b4",
   "metadata": {},
   "source": [
    "Q5. Write a program to filter count vowels in the below-given string.\n",
    "string = \"i want to become a data scientist\"."
   ]
  },
  {
   "cell_type": "code",
   "execution_count": 19,
   "id": "71dee650-a39c-4e6a-b768-261440ff3b23",
   "metadata": {},
   "outputs": [
    {
     "name": "stdout",
     "output_type": "stream",
     "text": [
      "Number of vowels: 12\n"
     ]
    }
   ],
   "source": [
    "string = \"i want to become a data scientist\"\n",
    "vowels = \"aeiou\"\n",
    "string = string.lower()\n",
    "vowel_count = 0\n",
    "for char in string:\n",
    "    if char in vowels:\n",
    "        vowel_count += 1\n",
    "print (\"Number of vowels:\", vowel_count)"
   ]
  },
  {
   "cell_type": "code",
   "execution_count": null,
   "id": "fd14abc4-5f2f-4f19-8363-297d299edf31",
   "metadata": {},
   "outputs": [],
   "source": []
  }
 ],
 "metadata": {
  "kernelspec": {
   "display_name": "Python 3 (ipykernel)",
   "language": "python",
   "name": "python3"
  },
  "language_info": {
   "codemirror_mode": {
    "name": "ipython",
    "version": 3
   },
   "file_extension": ".py",
   "mimetype": "text/x-python",
   "name": "python",
   "nbconvert_exporter": "python",
   "pygments_lexer": "ipython3",
   "version": "3.10.8"
  }
 },
 "nbformat": 4,
 "nbformat_minor": 5
}
